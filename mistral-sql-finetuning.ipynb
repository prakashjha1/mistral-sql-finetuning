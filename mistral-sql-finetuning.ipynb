{
  "nbformat": 4,
  "nbformat_minor": 0,
  "metadata": {
    "colab": {
      "provenance": [],
      "gpuType": "T4"
    },
    "kernelspec": {
      "name": "python3",
      "display_name": "Python 3"
    },
    "language_info": {
      "name": "python"
    },
    "accelerator": "GPU",
    "widgets": {
      "application/vnd.jupyter.widget-state+json": {
        "ef9abc86730a43128049f3b4fa1484a7": {
          "model_module": "@jupyter-widgets/controls",
          "model_name": "HBoxModel",
          "model_module_version": "1.5.0",
          "state": {
            "_dom_classes": [],
            "_model_module": "@jupyter-widgets/controls",
            "_model_module_version": "1.5.0",
            "_model_name": "HBoxModel",
            "_view_count": null,
            "_view_module": "@jupyter-widgets/controls",
            "_view_module_version": "1.5.0",
            "_view_name": "HBoxView",
            "box_style": "",
            "children": [
              "IPY_MODEL_d99a37decd9345099bb7307085b8a40a",
              "IPY_MODEL_a9420d044c4c4a41b9bceef0cdc77bdb",
              "IPY_MODEL_39d9756bbf524d18830335e68f24afac"
            ],
            "layout": "IPY_MODEL_1c4be5276c8742e69cb3f43b11c25b8b"
          }
        },
        "d99a37decd9345099bb7307085b8a40a": {
          "model_module": "@jupyter-widgets/controls",
          "model_name": "HTMLModel",
          "model_module_version": "1.5.0",
          "state": {
            "_dom_classes": [],
            "_model_module": "@jupyter-widgets/controls",
            "_model_module_version": "1.5.0",
            "_model_name": "HTMLModel",
            "_view_count": null,
            "_view_module": "@jupyter-widgets/controls",
            "_view_module_version": "1.5.0",
            "_view_name": "HTMLView",
            "description": "",
            "description_tooltip": null,
            "layout": "IPY_MODEL_c3399f6bf8ee44fd900720055b2fcb9b",
            "placeholder": "​",
            "style": "IPY_MODEL_f7b267e8e1cf4b3d8c4f35bc0f39cccf",
            "value": "Loading checkpoint shards: 100%"
          }
        },
        "a9420d044c4c4a41b9bceef0cdc77bdb": {
          "model_module": "@jupyter-widgets/controls",
          "model_name": "FloatProgressModel",
          "model_module_version": "1.5.0",
          "state": {
            "_dom_classes": [],
            "_model_module": "@jupyter-widgets/controls",
            "_model_module_version": "1.5.0",
            "_model_name": "FloatProgressModel",
            "_view_count": null,
            "_view_module": "@jupyter-widgets/controls",
            "_view_module_version": "1.5.0",
            "_view_name": "ProgressView",
            "bar_style": "success",
            "description": "",
            "description_tooltip": null,
            "layout": "IPY_MODEL_87d43e964de24a38b9f95e599dae7c99",
            "max": 2,
            "min": 0,
            "orientation": "horizontal",
            "style": "IPY_MODEL_2d1855dbd5304461a696232b5c5737b8",
            "value": 2
          }
        },
        "39d9756bbf524d18830335e68f24afac": {
          "model_module": "@jupyter-widgets/controls",
          "model_name": "HTMLModel",
          "model_module_version": "1.5.0",
          "state": {
            "_dom_classes": [],
            "_model_module": "@jupyter-widgets/controls",
            "_model_module_version": "1.5.0",
            "_model_name": "HTMLModel",
            "_view_count": null,
            "_view_module": "@jupyter-widgets/controls",
            "_view_module_version": "1.5.0",
            "_view_name": "HTMLView",
            "description": "",
            "description_tooltip": null,
            "layout": "IPY_MODEL_5dc109d82f68447fbd50b7cc9cb61db3",
            "placeholder": "​",
            "style": "IPY_MODEL_c8eb28a3fd7e41b28c3bdba9ee7783fb",
            "value": " 2/2 [01:30&lt;00:00, 42.05s/it]"
          }
        },
        "1c4be5276c8742e69cb3f43b11c25b8b": {
          "model_module": "@jupyter-widgets/base",
          "model_name": "LayoutModel",
          "model_module_version": "1.2.0",
          "state": {
            "_model_module": "@jupyter-widgets/base",
            "_model_module_version": "1.2.0",
            "_model_name": "LayoutModel",
            "_view_count": null,
            "_view_module": "@jupyter-widgets/base",
            "_view_module_version": "1.2.0",
            "_view_name": "LayoutView",
            "align_content": null,
            "align_items": null,
            "align_self": null,
            "border": null,
            "bottom": null,
            "display": null,
            "flex": null,
            "flex_flow": null,
            "grid_area": null,
            "grid_auto_columns": null,
            "grid_auto_flow": null,
            "grid_auto_rows": null,
            "grid_column": null,
            "grid_gap": null,
            "grid_row": null,
            "grid_template_areas": null,
            "grid_template_columns": null,
            "grid_template_rows": null,
            "height": null,
            "justify_content": null,
            "justify_items": null,
            "left": null,
            "margin": null,
            "max_height": null,
            "max_width": null,
            "min_height": null,
            "min_width": null,
            "object_fit": null,
            "object_position": null,
            "order": null,
            "overflow": null,
            "overflow_x": null,
            "overflow_y": null,
            "padding": null,
            "right": null,
            "top": null,
            "visibility": null,
            "width": null
          }
        },
        "c3399f6bf8ee44fd900720055b2fcb9b": {
          "model_module": "@jupyter-widgets/base",
          "model_name": "LayoutModel",
          "model_module_version": "1.2.0",
          "state": {
            "_model_module": "@jupyter-widgets/base",
            "_model_module_version": "1.2.0",
            "_model_name": "LayoutModel",
            "_view_count": null,
            "_view_module": "@jupyter-widgets/base",
            "_view_module_version": "1.2.0",
            "_view_name": "LayoutView",
            "align_content": null,
            "align_items": null,
            "align_self": null,
            "border": null,
            "bottom": null,
            "display": null,
            "flex": null,
            "flex_flow": null,
            "grid_area": null,
            "grid_auto_columns": null,
            "grid_auto_flow": null,
            "grid_auto_rows": null,
            "grid_column": null,
            "grid_gap": null,
            "grid_row": null,
            "grid_template_areas": null,
            "grid_template_columns": null,
            "grid_template_rows": null,
            "height": null,
            "justify_content": null,
            "justify_items": null,
            "left": null,
            "margin": null,
            "max_height": null,
            "max_width": null,
            "min_height": null,
            "min_width": null,
            "object_fit": null,
            "object_position": null,
            "order": null,
            "overflow": null,
            "overflow_x": null,
            "overflow_y": null,
            "padding": null,
            "right": null,
            "top": null,
            "visibility": null,
            "width": null
          }
        },
        "f7b267e8e1cf4b3d8c4f35bc0f39cccf": {
          "model_module": "@jupyter-widgets/controls",
          "model_name": "DescriptionStyleModel",
          "model_module_version": "1.5.0",
          "state": {
            "_model_module": "@jupyter-widgets/controls",
            "_model_module_version": "1.5.0",
            "_model_name": "DescriptionStyleModel",
            "_view_count": null,
            "_view_module": "@jupyter-widgets/base",
            "_view_module_version": "1.2.0",
            "_view_name": "StyleView",
            "description_width": ""
          }
        },
        "87d43e964de24a38b9f95e599dae7c99": {
          "model_module": "@jupyter-widgets/base",
          "model_name": "LayoutModel",
          "model_module_version": "1.2.0",
          "state": {
            "_model_module": "@jupyter-widgets/base",
            "_model_module_version": "1.2.0",
            "_model_name": "LayoutModel",
            "_view_count": null,
            "_view_module": "@jupyter-widgets/base",
            "_view_module_version": "1.2.0",
            "_view_name": "LayoutView",
            "align_content": null,
            "align_items": null,
            "align_self": null,
            "border": null,
            "bottom": null,
            "display": null,
            "flex": null,
            "flex_flow": null,
            "grid_area": null,
            "grid_auto_columns": null,
            "grid_auto_flow": null,
            "grid_auto_rows": null,
            "grid_column": null,
            "grid_gap": null,
            "grid_row": null,
            "grid_template_areas": null,
            "grid_template_columns": null,
            "grid_template_rows": null,
            "height": null,
            "justify_content": null,
            "justify_items": null,
            "left": null,
            "margin": null,
            "max_height": null,
            "max_width": null,
            "min_height": null,
            "min_width": null,
            "object_fit": null,
            "object_position": null,
            "order": null,
            "overflow": null,
            "overflow_x": null,
            "overflow_y": null,
            "padding": null,
            "right": null,
            "top": null,
            "visibility": null,
            "width": null
          }
        },
        "2d1855dbd5304461a696232b5c5737b8": {
          "model_module": "@jupyter-widgets/controls",
          "model_name": "ProgressStyleModel",
          "model_module_version": "1.5.0",
          "state": {
            "_model_module": "@jupyter-widgets/controls",
            "_model_module_version": "1.5.0",
            "_model_name": "ProgressStyleModel",
            "_view_count": null,
            "_view_module": "@jupyter-widgets/base",
            "_view_module_version": "1.2.0",
            "_view_name": "StyleView",
            "bar_color": null,
            "description_width": ""
          }
        },
        "5dc109d82f68447fbd50b7cc9cb61db3": {
          "model_module": "@jupyter-widgets/base",
          "model_name": "LayoutModel",
          "model_module_version": "1.2.0",
          "state": {
            "_model_module": "@jupyter-widgets/base",
            "_model_module_version": "1.2.0",
            "_model_name": "LayoutModel",
            "_view_count": null,
            "_view_module": "@jupyter-widgets/base",
            "_view_module_version": "1.2.0",
            "_view_name": "LayoutView",
            "align_content": null,
            "align_items": null,
            "align_self": null,
            "border": null,
            "bottom": null,
            "display": null,
            "flex": null,
            "flex_flow": null,
            "grid_area": null,
            "grid_auto_columns": null,
            "grid_auto_flow": null,
            "grid_auto_rows": null,
            "grid_column": null,
            "grid_gap": null,
            "grid_row": null,
            "grid_template_areas": null,
            "grid_template_columns": null,
            "grid_template_rows": null,
            "height": null,
            "justify_content": null,
            "justify_items": null,
            "left": null,
            "margin": null,
            "max_height": null,
            "max_width": null,
            "min_height": null,
            "min_width": null,
            "object_fit": null,
            "object_position": null,
            "order": null,
            "overflow": null,
            "overflow_x": null,
            "overflow_y": null,
            "padding": null,
            "right": null,
            "top": null,
            "visibility": null,
            "width": null
          }
        },
        "c8eb28a3fd7e41b28c3bdba9ee7783fb": {
          "model_module": "@jupyter-widgets/controls",
          "model_name": "DescriptionStyleModel",
          "model_module_version": "1.5.0",
          "state": {
            "_model_module": "@jupyter-widgets/controls",
            "_model_module_version": "1.5.0",
            "_model_name": "DescriptionStyleModel",
            "_view_count": null,
            "_view_module": "@jupyter-widgets/base",
            "_view_module_version": "1.2.0",
            "_view_name": "StyleView",
            "description_width": ""
          }
        }
      }
    }
  },
  "cells": [
    {
      "cell_type": "code",
      "execution_count": null,
      "metadata": {
        "id": "uI9XuEjLfumT"
      },
      "outputs": [],
      "source": [
        "!pip install -q -U transformers peft accelerate bitsandbytes datasets"
      ]
    },
    {
      "cell_type": "code",
      "source": [
        "# import all the essential library\n",
        "from datasets import load_dataset\n",
        "import collections\n",
        "import torch\n",
        "from transformers import AutoTokenizer, AutoModelForCausalLM, BitsAndBytesConfig, TrainingArguments, Trainer\n",
        "from peft import LoraConfig, get_peft_model, prepare_model_for_kbit_training\n",
        "import pandas as pd\n",
        "from google.colab import userdata\n",
        "from huggingface_hub import login"
      ],
      "metadata": {
        "id": "A_pTKEL4gDoc"
      },
      "execution_count": null,
      "outputs": []
    },
    {
      "cell_type": "code",
      "source": [
        "# Login to huggingface by using the access token\n",
        "HF_TOKEN = userdata.get('hf_access')\n",
        "login(token=HF_TOKEN)"
      ],
      "metadata": {
        "id": "vXCHFbXLujoh"
      },
      "execution_count": null,
      "outputs": []
    },
    {
      "cell_type": "code",
      "source": [
        "# Load and print sql dataset\n",
        "dataset_name = \"b-mc2/sql-create-context\"\n",
        "dataset = load_dataset(dataset_name, split=\"train\")\n",
        "\n",
        "print(dataset[:5])\n"
      ],
      "metadata": {
        "colab": {
          "base_uri": "https://localhost:8080/"
        },
        "id": "QLmNPc6JhS-R",
        "outputId": "4bdb1d00-90c7-4788-c277-af79c95cf990"
      },
      "execution_count": null,
      "outputs": [
        {
          "output_type": "stream",
          "name": "stdout",
          "text": [
            "{'answer': ['SELECT COUNT(*) FROM head WHERE age > 56', 'SELECT name, born_state, age FROM head ORDER BY age', 'SELECT creation, name, budget_in_billions FROM department', 'SELECT MAX(budget_in_billions), MIN(budget_in_billions) FROM department', 'SELECT AVG(num_employees) FROM department WHERE ranking BETWEEN 10 AND 15'], 'question': ['How many heads of the departments are older than 56 ?', 'List the name, born state and age of the heads of departments ordered by age.', 'List the creation year, name and budget of each department.', 'What are the maximum and minimum budget of the departments?', 'What is the average number of employees of the departments whose rank is between 10 and 15?'], 'context': ['CREATE TABLE head (age INTEGER)', 'CREATE TABLE head (name VARCHAR, born_state VARCHAR, age VARCHAR)', 'CREATE TABLE department (creation VARCHAR, name VARCHAR, budget_in_billions VARCHAR)', 'CREATE TABLE department (budget_in_billions INTEGER)', 'CREATE TABLE department (num_employees INTEGER, ranking INTEGER)']}\n"
          ]
        }
      ]
    },
    {
      "cell_type": "code",
      "source": [
        "def create_prompt(example):\n",
        "    # Define Prompt template\n",
        "    prompt_template = \"\"\"### INSTRUCTION:\n",
        "You are a powerful text-to-SQL model. Your job is to answer questions about a database. You are given the CREATE TABLE statement for the database and a question. You must generate the corresponding SQL query.\n",
        "\n",
        "### DATABASE SCHEMA:\n",
        "{context}\n",
        "\n",
        "### QUESTION:\n",
        "{question}\n",
        "\n",
        "### RESPONSE (SQL Query):\n",
        "{answer}\"\"\"\n",
        "\n",
        "    prompt = prompt_template.format(\n",
        "        context=example['context'],\n",
        "        question=example['question'],\n",
        "        answer=example['answer']\n",
        "    )\n",
        "\n",
        "\n",
        "    return {\"text\": prompt}\n",
        "\n",
        "\n",
        "formatted_dataset = dataset.map(create_prompt)\n",
        "\n",
        "print(formatted_dataset[0]['text'])"
      ],
      "metadata": {
        "colab": {
          "base_uri": "https://localhost:8080/"
        },
        "id": "PJ3MhthBiVT5",
        "outputId": "6cfe14e6-22ff-4adb-b9ea-e1e9270873e9"
      },
      "execution_count": null,
      "outputs": [
        {
          "output_type": "stream",
          "name": "stdout",
          "text": [
            "### INSTRUCTION:\n",
            "You are a powerful text-to-SQL model. Your job is to answer questions about a database. You are given the CREATE TABLE statement for the database and a question. You must generate the corresponding SQL query.\n",
            "\n",
            "### DATABASE SCHEMA:\n",
            "CREATE TABLE head (age INTEGER)\n",
            "\n",
            "### QUESTION:\n",
            "How many heads of the departments are older than 56 ?\n",
            "\n",
            "### RESPONSE (SQL Query):\n",
            "SELECT COUNT(*) FROM head WHERE age > 56\n"
          ]
        }
      ]
    },
    {
      "cell_type": "code",
      "source": [
        "print(formatted_dataset)"
      ],
      "metadata": {
        "colab": {
          "base_uri": "https://localhost:8080/"
        },
        "id": "BjQEhsgmnHsU",
        "outputId": "314e4d62-9b2f-4ec3-dafb-47989f09913f"
      },
      "execution_count": null,
      "outputs": [
        {
          "output_type": "stream",
          "name": "stdout",
          "text": [
            "Dataset({\n",
            "    features: ['answer', 'question', 'context', 'text'],\n",
            "    num_rows: 78577\n",
            "})\n"
          ]
        }
      ]
    },
    {
      "cell_type": "code",
      "source": [
        "# Get the token or input length\n",
        "model_name = \"mistralai/Mistral-7B-v0.1\"\n",
        "tokenizer = AutoTokenizer.from_pretrained(model_name)\n",
        "\n",
        "def getTokenLength(example):\n",
        "    return {\"token_length\": len(tokenizer.encode(example['text']))}\n",
        "\n",
        "dataset_with_lengths = formatted_dataset.map(getTokenLength)"
      ],
      "metadata": {
        "id": "0oJxPyi9ouul"
      },
      "execution_count": null,
      "outputs": []
    },
    {
      "cell_type": "code",
      "source": [
        "# Summary  of token length\n",
        "lengths_df = pd.DataFrame(dataset_with_lengths['token_length'], columns=['Token Length'])\n",
        "print(lengths_df.describe())"
      ],
      "metadata": {
        "colab": {
          "base_uri": "https://localhost:8080/"
        },
        "id": "vzgI0BTxrlVr",
        "outputId": "a7469e83-0ac3-4c45-d1e9-689bb3ba728f"
      },
      "execution_count": null,
      "outputs": [
        {
          "output_type": "stream",
          "name": "stdout",
          "text": [
            "       Token Length\n",
            "count  78577.000000\n",
            "mean     152.675885\n",
            "std       21.116305\n",
            "min      101.000000\n",
            "25%      138.000000\n",
            "50%      149.000000\n",
            "75%      162.000000\n",
            "max      594.000000\n"
          ]
        }
      ]
    },
    {
      "cell_type": "code",
      "source": [
        "sql_keywords = [\"SELECT\", \"FROM\", \"WHERE\", \"GROUP BY\", \"ORDER BY\", \"LIMIT\", \"JOIN\", \"ON\", \"AS\", \"DISTINCT\"]\n",
        "keyword_counts = collections.defaultdict(int)\n",
        "\n",
        "\n",
        "for query in dataset['answer']:\n",
        "\n",
        "    query_upper = query.upper()\n",
        "    for keyword in sql_keywords:\n",
        "        if keyword in query_upper:\n",
        "            keyword_counts[keyword] += 1\n",
        "\n",
        "print(\"Frequency of SQL Keywords in Answers:\")\n",
        "\n",
        "for keyword, count in sorted(keyword_counts.items(), key=lambda item: item[1], reverse=True):\n",
        "    print(f\"{keyword}: {count}\")"
      ],
      "metadata": {
        "colab": {
          "base_uri": "https://localhost:8080/"
        },
        "id": "ml6y6cv7vJu4",
        "outputId": "594772eb-b017-4433-90ef-b399b72749cc"
      },
      "execution_count": null,
      "outputs": [
        {
          "output_type": "stream",
          "name": "stdout",
          "text": [
            "Frequency of SQL Keywords in Answers:\n",
            "SELECT: 78577\n",
            "FROM: 78577\n",
            "WHERE: 75675\n",
            "ON: 29014\n",
            "AS: 11736\n",
            "JOIN: 1931\n",
            "GROUP BY: 1160\n",
            "ORDER BY: 1062\n",
            "LIMIT: 757\n",
            "DISTINCT: 436\n"
          ]
        }
      ]
    },
    {
      "cell_type": "code",
      "source": [
        "tokenizer.pad_token = tokenizer.eos_token"
      ],
      "metadata": {
        "id": "SaLDZXQ4vkt-"
      },
      "execution_count": null,
      "outputs": []
    },
    {
      "cell_type": "code",
      "source": [
        "MAX_LENGTH = 512\n",
        "def tokenize_and_prepare_labels(example):\n",
        "    # Take the complete format\n",
        "    full_prompt = example['text']\n",
        "\n",
        "    # Tokenize it. truncation=True mean if prompt is very large the remove or cut extra part\n",
        "    tokenized_full_prompt = tokenizer(full_prompt, truncation=True, max_length=MAX_LENGTH, padding='max_length')\n",
        "\n",
        "    # make a copy of input ids\n",
        "    labels = tokenized_full_prompt['input_ids'].copy()\n",
        "\n",
        "    user_prompt = f\"\"\"### INSTRUCTION:\n",
        "You are a powerful text-to-SQL model. Your job is to answer questions about a database. You are given the CREATE TABLE statement for the database and a question. You must generate the corresponding SQL query.\n",
        "\n",
        "### DATABASE SCHEMA:\n",
        "{example['context']}\n",
        "\n",
        "### QUESTION:\n",
        "{example['question']}\n",
        "\n",
        "### RESPONSE (SQL Query):\n",
        "\"\"\"\n",
        "\n",
        "    # Tokenize the input part\n",
        "    tokenized_user_prompt = tokenizer(user_prompt, truncation=True, max_length=MAX_LENGTH, padding=False)\n",
        "\n",
        "    # Find the length of input part\n",
        "    user_prompt_len = len(tokenized_user_prompt['input_ids'])\n",
        "\n",
        "\n",
        "    # mask the input part using -100 so that loss will be calculate using answer\n",
        "    for i in range(user_prompt_len):\n",
        "        labels[i] = -100\n",
        "\n",
        "    # put label and input in final dictionary\n",
        "    tokenized_full_prompt['labels'] = labels\n",
        "\n",
        "    return tokenized_full_prompt\n",
        "\n",
        "# Apply above function on complete dataset\n",
        "tokenized_dataset = formatted_dataset.map(tokenize_and_prepare_labels, batched=False)\n",
        "\n",
        "# Lets check an example\n",
        "print(tokenized_dataset[0]['input_ids'])\n",
        "print(tokenized_dataset[0]['labels'])"
      ],
      "metadata": {
        "colab": {
          "base_uri": "https://localhost:8080/"
        },
        "id": "aw5VhbaD7b_I",
        "outputId": "c1e045cc-380e-4f85-cee1-aa9f16e3729a"
      },
      "execution_count": null,
      "outputs": [
        {
          "output_type": "stream",
          "name": "stdout",
          "text": [
            "[2, 2, 2, 2, 2, 2, 2, 2, 2, 2, 2, 2, 2, 2, 2, 2, 2, 2, 2, 2, 2, 2, 2, 2, 2, 2, 2, 2, 2, 2, 2, 2, 2, 2, 2, 2, 2, 2, 2, 2, 2, 2, 2, 2, 2, 2, 2, 2, 2, 2, 2, 2, 2, 2, 2, 2, 2, 2, 2, 2, 2, 2, 2, 2, 2, 2, 2, 2, 2, 2, 2, 2, 2, 2, 2, 2, 2, 2, 2, 2, 2, 2, 2, 2, 2, 2, 2, 2, 2, 2, 2, 2, 2, 2, 2, 2, 2, 2, 2, 2, 2, 2, 2, 2, 2, 2, 2, 2, 2, 2, 2, 2, 2, 2, 2, 2, 2, 2, 2, 2, 2, 2, 2, 2, 2, 2, 2, 2, 2, 2, 2, 2, 2, 2, 2, 2, 2, 2, 2, 2, 2, 2, 2, 2, 2, 2, 2, 2, 2, 2, 2, 2, 2, 2, 2, 2, 2, 2, 2, 2, 2, 2, 2, 2, 2, 2, 2, 2, 2, 2, 2, 2, 2, 2, 2, 2, 2, 2, 2, 2, 2, 2, 2, 2, 2, 2, 2, 2, 2, 2, 2, 2, 2, 2, 2, 2, 2, 2, 2, 2, 2, 2, 2, 2, 2, 2, 2, 2, 2, 2, 2, 2, 2, 2, 2, 2, 2, 2, 2, 2, 2, 2, 2, 2, 2, 2, 2, 2, 2, 2, 2, 2, 2, 2, 2, 2, 2, 2, 2, 2, 2, 2, 2, 2, 2, 2, 2, 2, 2, 2, 2, 2, 2, 2, 2, 2, 2, 2, 2, 2, 2, 2, 2, 2, 2, 2, 2, 2, 2, 2, 2, 2, 2, 2, 2, 2, 2, 2, 2, 2, 2, 2, 2, 2, 2, 2, 2, 2, 2, 2, 2, 2, 2, 2, 2, 2, 2, 2, 2, 2, 2, 2, 2, 2, 2, 2, 2, 2, 2, 2, 2, 2, 2, 2, 2, 2, 2, 2, 2, 2, 2, 2, 2, 2, 2, 2, 2, 2, 2, 2, 2, 2, 2, 2, 2, 2, 2, 2, 2, 2, 2, 2, 2, 2, 2, 2, 2, 2, 2, 2, 2, 2, 2, 2, 2, 2, 2, 2, 2, 2, 2, 2, 2, 2, 2, 2, 2, 2, 2, 2, 2, 2, 2, 2, 2, 2, 2, 2, 2, 2, 2, 2, 2, 2, 2, 2, 2, 2, 2, 2, 2, 2, 2, 1, 774, 2693, 19199, 5324, 28747, 13, 1976, 460, 264, 6787, 2245, 28733, 532, 28733, 9295, 2229, 28723, 3604, 2389, 349, 298, 4372, 4224, 684, 264, 7499, 28723, 995, 460, 2078, 272, 334, 896, 3148, 23740, 6251, 354, 272, 7499, 304, 264, 2996, 28723, 995, 1580, 8270, 272, 7606, 13208, 5709, 28723, 13, 13, 27332, 384, 962, 2192, 11257, 9730, 1821, 1892, 28747, 13, 21005, 23740, 1335, 325, 465, 2693, 3392, 11832, 28731, 13, 13, 27332, 1186, 12171, 1702, 28747, 13, 5660, 1287, 10478, 302, 272, 25626, 460, 6402, 821, 28705, 28782, 28784, 1550, 13, 13, 27332, 20308, 28753, 832, 1151, 325, 9295, 16580, 1329, 13, 10696, 5006, 11111, 28732, 2523, 10657, 1335, 15803, 3595, 876, 28705, 28782, 28784]\n",
            "[-100, -100, -100, -100, -100, -100, -100, -100, -100, -100, -100, -100, -100, -100, -100, -100, -100, -100, -100, -100, -100, -100, -100, -100, -100, -100, -100, -100, -100, -100, -100, -100, -100, -100, -100, -100, -100, -100, -100, -100, -100, -100, -100, -100, -100, -100, -100, -100, -100, -100, -100, -100, -100, -100, -100, -100, -100, -100, -100, -100, -100, -100, -100, -100, -100, -100, -100, -100, -100, -100, -100, -100, -100, -100, -100, -100, -100, -100, -100, -100, -100, -100, -100, -100, -100, -100, -100, -100, -100, -100, -100, -100, -100, -100, -100, -100, -100, -100, -100, -100, -100, -100, -100, -100, -100, -100, 2, 2, 2, 2, 2, 2, 2, 2, 2, 2, 2, 2, 2, 2, 2, 2, 2, 2, 2, 2, 2, 2, 2, 2, 2, 2, 2, 2, 2, 2, 2, 2, 2, 2, 2, 2, 2, 2, 2, 2, 2, 2, 2, 2, 2, 2, 2, 2, 2, 2, 2, 2, 2, 2, 2, 2, 2, 2, 2, 2, 2, 2, 2, 2, 2, 2, 2, 2, 2, 2, 2, 2, 2, 2, 2, 2, 2, 2, 2, 2, 2, 2, 2, 2, 2, 2, 2, 2, 2, 2, 2, 2, 2, 2, 2, 2, 2, 2, 2, 2, 2, 2, 2, 2, 2, 2, 2, 2, 2, 2, 2, 2, 2, 2, 2, 2, 2, 2, 2, 2, 2, 2, 2, 2, 2, 2, 2, 2, 2, 2, 2, 2, 2, 2, 2, 2, 2, 2, 2, 2, 2, 2, 2, 2, 2, 2, 2, 2, 2, 2, 2, 2, 2, 2, 2, 2, 2, 2, 2, 2, 2, 2, 2, 2, 2, 2, 2, 2, 2, 2, 2, 2, 2, 2, 2, 2, 2, 2, 2, 2, 2, 2, 2, 2, 2, 2, 2, 2, 2, 2, 2, 2, 2, 2, 2, 2, 2, 2, 2, 2, 2, 2, 2, 2, 2, 2, 2, 2, 2, 2, 2, 2, 2, 2, 2, 2, 2, 2, 2, 2, 2, 2, 2, 2, 2, 2, 2, 2, 2, 2, 2, 2, 2, 2, 2, 2, 2, 2, 2, 2, 2, 2, 2, 2, 2, 2, 2, 2, 2, 2, 2, 2, 2, 2, 2, 2, 2, 2, 2, 2, 2, 2, 2, 2, 2, 2, 2, 2, 2, 2, 2, 2, 2, 2, 2, 2, 2, 2, 2, 2, 2, 2, 2, 2, 2, 2, 2, 1, 774, 2693, 19199, 5324, 28747, 13, 1976, 460, 264, 6787, 2245, 28733, 532, 28733, 9295, 2229, 28723, 3604, 2389, 349, 298, 4372, 4224, 684, 264, 7499, 28723, 995, 460, 2078, 272, 334, 896, 3148, 23740, 6251, 354, 272, 7499, 304, 264, 2996, 28723, 995, 1580, 8270, 272, 7606, 13208, 5709, 28723, 13, 13, 27332, 384, 962, 2192, 11257, 9730, 1821, 1892, 28747, 13, 21005, 23740, 1335, 325, 465, 2693, 3392, 11832, 28731, 13, 13, 27332, 1186, 12171, 1702, 28747, 13, 5660, 1287, 10478, 302, 272, 25626, 460, 6402, 821, 28705, 28782, 28784, 1550, 13, 13, 27332, 20308, 28753, 832, 1151, 325, 9295, 16580, 1329, 13, 10696, 5006, 11111, 28732, 2523, 10657, 1335, 15803, 3595, 876, 28705, 28782, 28784]\n"
          ]
        }
      ]
    },
    {
      "cell_type": "code",
      "source": [
        "# Model name\n",
        "model_name = \"mistralai/Mistral-7B-v0.1\"\n",
        "\n",
        "# Quantization config\n",
        "bnb_config = BitsAndBytesConfig(\n",
        "    load_in_4bit=True,\n",
        "    bnb_4bit_quant_type=\"nf4\",\n",
        "    bnb_4bit_compute_dtype=torch.float16,\n",
        ")\n",
        "\n",
        "# Load the model in 4-bit\n",
        "model = AutoModelForCausalLM.from_pretrained(\n",
        "    model_name,\n",
        "    quantization_config=bnb_config,\n",
        "    torch_dtype=torch.float16,\n",
        "    device_map=\"auto\",  # it will automatically put the model on GPU\n",
        "    trust_remote_code=True,\n",
        ")"
      ],
      "metadata": {
        "colab": {
          "base_uri": "https://localhost:8080/",
          "height": 49,
          "referenced_widgets": [
            "ef9abc86730a43128049f3b4fa1484a7",
            "d99a37decd9345099bb7307085b8a40a",
            "a9420d044c4c4a41b9bceef0cdc77bdb",
            "39d9756bbf524d18830335e68f24afac",
            "1c4be5276c8742e69cb3f43b11c25b8b",
            "c3399f6bf8ee44fd900720055b2fcb9b",
            "f7b267e8e1cf4b3d8c4f35bc0f39cccf",
            "87d43e964de24a38b9f95e599dae7c99",
            "2d1855dbd5304461a696232b5c5737b8",
            "5dc109d82f68447fbd50b7cc9cb61db3",
            "c8eb28a3fd7e41b28c3bdba9ee7783fb"
          ]
        },
        "id": "ZKwEjl1T7hRh",
        "outputId": "9e9160ff-1c54-4ec6-b08a-434cdf20e6fd"
      },
      "execution_count": null,
      "outputs": [
        {
          "output_type": "display_data",
          "data": {
            "text/plain": [
              "Loading checkpoint shards:   0%|          | 0/2 [00:00<?, ?it/s]"
            ],
            "application/vnd.jupyter.widget-view+json": {
              "version_major": 2,
              "version_minor": 0,
              "model_id": "ef9abc86730a43128049f3b4fa1484a7"
            }
          },
          "metadata": {}
        }
      ]
    },
    {
      "cell_type": "code",
      "source": [
        "# Prepare the model for PEFT training\n",
        "model = prepare_model_for_kbit_training(model)\n",
        "\n",
        "# Make LoRA config\n",
        "lora_config = LoraConfig(\n",
        "    r=16, # Rank of the update matrices. Higher = more parameters, but might overfit. 16 is a good starting point.\n",
        "    lora_alpha=32, # Alpha scaling factor. A good rule of thumb is alpha = 2 * r.\n",
        "    target_modules=[\"q_proj\", \"k_proj\", \"v_proj\", \"o_proj\"], # where to add LoRA adapters inside the model's layer. This is standard for mistral.\n",
        "    lora_dropout=0.05, # Dropout probability for LoRA layers to prevent overfitting.\n",
        "    bias=\"none\",\n",
        "    task_type=\"CAUSAL_LM\", # We are doing Causal Language Modeling (predicting the next token).\n",
        ")\n",
        "\n",
        "# Wrap the model with LoRA config\n",
        "peft_model = get_peft_model(model, lora_config)\n",
        "\n",
        "# Let's see the trainable parameters\n",
        "peft_model.print_trainable_parameters()"
      ],
      "metadata": {
        "colab": {
          "base_uri": "https://localhost:8080/"
        },
        "id": "x-un_lo_-cku",
        "outputId": "f0f57d12-ae8f-44f1-d353-8d6793ee26e9"
      },
      "execution_count": null,
      "outputs": [
        {
          "output_type": "stream",
          "name": "stdout",
          "text": [
            "trainable params: 13,631,488 || all params: 7,255,363,584 || trainable%: 0.1879\n"
          ]
        }
      ]
    },
    {
      "cell_type": "code",
      "source": [
        "training_args = TrainingArguments(\n",
        "    output_dir=\"./sql-finetune-results\",   # where to save results (checkpoints)\n",
        "    num_train_epochs=1,  # Number of epochs. 1 is a good start for large datasets.\n",
        "    per_device_train_batch_size=4, # how many examples will be given to GPU at a time\n",
        "    gradient_accumulation_steps=1,\n",
        "    optim=\"paged_adamw_8bit\", # Memory-efficient optimizer\n",
        "    learning_rate=2e-4, # How fast the model learns. 2e-4 is a good value for LoRA.\n",
        "    lr_scheduler_type=\"cosine\", # schedule to make learning rate low\n",
        "    save_strategy=\"epoch\", # save model after each epoch\n",
        "    logging_steps=100, # Print loss on every 100 steps\n",
        "    report_to=\"none\", # We don't want to log to wandb or other services for now\n",
        ")"
      ],
      "metadata": {
        "id": "VSABm-m7_Q5o"
      },
      "execution_count": null,
      "outputs": []
    },
    {
      "cell_type": "code",
      "source": [
        "from transformers import  DataCollatorForLanguageModeling\n",
        "data_collator = DataCollatorForLanguageModeling(tokenizer=tokenizer, mlm=False)\n",
        "# train_subset = tokenized_dataset.select(range(1000)) # uncomment this line if you want to use only 1000 examples else use data_collector\n",
        "# Create a Trainer Object\n",
        "trainer = Trainer(\n",
        "    model=peft_model,  # Our trainable LoRA model\n",
        "    train_dataset=train_subset, # Our tokenized dataset\n",
        "    args=training_args, # Training arguments which we have define earlier\n",
        "    data_collator=data_collator\n",
        ")\n",
        "\n",
        "# Let's gooooo!\n",
        "trainer.train()"
      ],
      "metadata": {
        "colab": {
          "base_uri": "https://localhost:8080/",
          "height": 245
        },
        "id": "kr2mkXMOA1Wk",
        "outputId": "4cfc1f46-3a0a-4340-94e1-6f834ad77519"
      },
      "execution_count": null,
      "outputs": [
        {
          "output_type": "stream",
          "name": "stderr",
          "text": [
            "No label_names provided for model class `PeftModelForCausalLM`. Since `PeftModel` hides base models input arguments, if label_names is not given, label_names can't be set automatically within `Trainer`. Note that empty label_names list will be used instead.\n",
            "/usr/local/lib/python3.11/dist-packages/torch/_dynamo/eval_frame.py:745: UserWarning: torch.utils.checkpoint: the use_reentrant parameter should be passed explicitly. In version 2.5 we will raise an exception if use_reentrant is not passed. use_reentrant=False is recommended, but if you need to preserve the current default behavior, you can pass use_reentrant=True. Refer to docs for more details on the differences between the two variants.\n",
            "  return fn(*args, **kwargs)\n"
          ]
        },
        {
          "output_type": "display_data",
          "data": {
            "text/plain": [
              "<IPython.core.display.HTML object>"
            ],
            "text/html": [
              "\n",
              "    <div>\n",
              "      \n",
              "      <progress value='250' max='250' style='width:300px; height:20px; vertical-align: middle;'></progress>\n",
              "      [250/250 1:55:13, Epoch 1/1]\n",
              "    </div>\n",
              "    <table border=\"1\" class=\"dataframe\">\n",
              "  <thead>\n",
              " <tr style=\"text-align: left;\">\n",
              "      <th>Step</th>\n",
              "      <th>Training Loss</th>\n",
              "    </tr>\n",
              "  </thead>\n",
              "  <tbody>\n",
              "    <tr>\n",
              "      <td>100</td>\n",
              "      <td>0.384100</td>\n",
              "    </tr>\n",
              "    <tr>\n",
              "      <td>200</td>\n",
              "      <td>0.273800</td>\n",
              "    </tr>\n",
              "  </tbody>\n",
              "</table><p>"
            ]
          },
          "metadata": {}
        },
        {
          "output_type": "execute_result",
          "data": {
            "text/plain": [
              "TrainOutput(global_step=250, training_loss=0.3142960319519043, metrics={'train_runtime': 6942.8816, 'train_samples_per_second': 0.144, 'train_steps_per_second': 0.036, 'total_flos': 2.1885823746048e+16, 'train_loss': 0.3142960319519043, 'epoch': 1.0})"
            ]
          },
          "metadata": {},
          "execution_count": 31
        }
      ]
    },
    {
      "cell_type": "code",
      "source": [
        "import matplotlib.pyplot as plt\n",
        "\n",
        "\n",
        "training_history = trainer.state.log_history\n",
        "\n",
        "steps = [entry['step'] for entry in training_history if 'loss' in entry]\n",
        "losses = [entry['loss'] for entry in training_history if 'loss' in entry]\n",
        "\n",
        "plt.figure(figsize=(10, 6))\n",
        "plt.plot(steps, losses, label=\"Training Loss\")\n",
        "plt.title(\"Training Loss Curve\")\n",
        "plt.xlabel(\"Training Steps\")\n",
        "plt.ylabel(\"Loss\")\n",
        "plt.legend()\n",
        "plt.grid(True)\n",
        "plt.show()"
      ],
      "metadata": {
        "colab": {
          "base_uri": "https://localhost:8080/",
          "height": 564
        },
        "id": "vsqoZECfA8CH",
        "outputId": "33e56ac0-b047-48fa-f868-814e7a59d1ba"
      },
      "execution_count": null,
      "outputs": [
        {
          "output_type": "display_data",
          "data": {
            "text/plain": [
              "<Figure size 1000x600 with 1 Axes>"
            ],
            "image/png": "[encoded data removed]"
          },
          "metadata": {}
        }
      ]
    },
    {
      "cell_type": "code",
      "source": [
        "output_dir = \"mistral-7b-sql-finetuned\"\n",
        "\n",
        "peft_model.save_pretrained(output_dir) # save finetunned model\n",
        "\n",
        "tokenizer.save_pretrained(output_dir) # Save Tokenizer"
      ],
      "metadata": {
        "colab": {
          "base_uri": "https://localhost:8080/"
        },
        "id": "QPvMEVmY4Ybz",
        "outputId": "157767ea-4d78-4063-82d2-3c95e1648c54"
      },
      "execution_count": null,
      "outputs": [
        {
          "output_type": "execute_result",
          "data": {
            "text/plain": [
              "('mistral-7b-sql-finetuned/tokenizer_config.json',\n",
              " 'mistral-7b-sql-finetuned/special_tokens_map.json',\n",
              " 'mistral-7b-sql-finetuned/tokenizer.model',\n",
              " 'mistral-7b-sql-finetuned/added_tokens.json',\n",
              " 'mistral-7b-sql-finetuned/tokenizer.json')"
            ]
          },
          "metadata": {},
          "execution_count": 33
        }
      ]
    },
    {
      "cell_type": "code",
      "source": [
        "from transformers import pipeline\n",
        "import torch\n",
        "\n",
        "# Database schema (context) for a new question\n",
        "test_context = \"\"\"CREATE TABLE head (age INTEGER)\"\"\"\n",
        "\n",
        "# Our new question\n",
        "test_question = \"How many heads of the departments are older than 56?\"\n",
        "\n",
        "\n",
        "# Use the same prompt template which was used in training but don't pass answer's part\n",
        "prompt = f\"\"\"### INSTRUCTION:\n",
        "You are a powerful text-to-SQL model. Your job is to answer questions about a database. You are given the CREATE TABLE statement for the database and a question. You must generate the corresponding SQL query.\n",
        "\n",
        "### DATABASE SCHEMA:\n",
        "{test_context}\n",
        "\n",
        "### QUESTION:\n",
        "{test_question}\n",
        "\n",
        "### RESPONSE (SQL Query):\n",
        "\"\"\"\n",
        "\n",
        "# Using pipeline is the easy way to use text generateion\n",
        "# peft_model is the model which we finetunned\n",
        "text_gen_pipeline = pipeline(\n",
        "    \"text-generation\",\n",
        "    model=peft_model,\n",
        "    tokenizer=tokenizer,\n",
        "    torch_dtype=torch.float16,\n",
        "    device_map=\"auto\"\n",
        ")\n",
        "\n",
        "# do_sample=True adds some randomness for better results\n",
        "sequences = text_gen_pipeline(\n",
        "    prompt,\n",
        "    max_new_tokens=100,\n",
        "    do_sample=True,\n",
        "    top_k=10,\n",
        "    num_return_sequences=1,\n",
        "    eos_token_id=tokenizer.eos_token_id,\n",
        ")\n",
        "\n",
        "\n",
        "full_response = sequences[0]['generated_text']\n",
        "sql_query = full_response.split(\"### RESPONSE (SQL Query):\")[1].strip()\n",
        "\n",
        "print(\"---PROMPT---\")\n",
        "print(prompt)\n",
        "print(\"\\n---GENERATED SQL---\")\n",
        "print(sql_query)"
      ],
      "metadata": {
        "colab": {
          "base_uri": "https://localhost:8080/"
        },
        "id": "IKgEJIxg4-7M",
        "outputId": "51c3dca6-16bf-4eb7-c28a-a902e8dfb7e6"
      },
      "execution_count": null,
      "outputs": [
        {
          "output_type": "stream",
          "name": "stderr",
          "text": [
            "Device set to use cuda:0\n",
            "/usr/local/lib/python3.11/dist-packages/torch/_dynamo/eval_frame.py:745: UserWarning: torch.utils.checkpoint: the use_reentrant parameter should be passed explicitly. In version 2.5 we will raise an exception if use_reentrant is not passed. use_reentrant=False is recommended, but if you need to preserve the current default behavior, you can pass use_reentrant=True. Refer to docs for more details on the differences between the two variants.\n",
            "  return fn(*args, **kwargs)\n",
            "/usr/local/lib/python3.11/dist-packages/torch/utils/checkpoint.py:87: UserWarning: None of the inputs have requires_grad=True. Gradients will be None\n",
            "  warnings.warn(\n"
          ]
        },
        {
          "output_type": "stream",
          "name": "stdout",
          "text": [
            "---PROMPT---\n",
            "### INSTRUCTION:\n",
            "You are a powerful text-to-SQL model. Your job is to answer questions about a database. You are given the CREATE TABLE statement for the database and a question. You must generate the corresponding SQL query.\n",
            "\n",
            "### DATABASE SCHEMA:\n",
            "CREATE TABLE head (age INTEGER)\n",
            "\n",
            "### QUESTION:\n",
            "How many heads of the departments are older than 56?\n",
            "\n",
            "### RESPONSE (SQL Query):\n",
            "\n",
            "\n",
            "---GENERATED SQL---\n",
            "SELECT COUNT(*) FROM head WHERE age > 56\n"
          ]
        }
      ]
    },
    {
      "cell_type": "code",
      "source": [],
      "metadata": {
        "id": "-5NUQIhH5w7c"
      },
      "execution_count": null,
      "outputs": []
    }
  ]
}